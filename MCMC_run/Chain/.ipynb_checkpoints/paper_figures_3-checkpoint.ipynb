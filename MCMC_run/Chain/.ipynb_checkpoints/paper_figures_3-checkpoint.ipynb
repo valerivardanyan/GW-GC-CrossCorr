{
 "cells": [
  {
   "cell_type": "code",
   "execution_count": 82,
   "metadata": {},
   "outputs": [],
   "source": [
    "# General imports\n",
    "import numpy as np\n",
    "import matplotlib.pyplot as plt\n",
    "import pandas as pd\n",
    "import sys\n",
    "from scipy import interpolate, integrate\n",
    "from matplotlib.ticker import (MultipleLocator, FormatStrFormatter,\n",
    "                               AutoMinorLocator)\n",
    "\n",
    "%matplotlib inline\n",
    "\n",
    "plt.rc('xtick',labelsize=16)\n",
    "plt.rc('ytick',labelsize=16)\n",
    "plt.rc('mathtext', fontset='stix')\n",
    "plt.rc('font', family='STIXGeneral')\n",
    "plt.rc('font', size=15)\n",
    "plt.rc('figure', autolayout=True)\n",
    "plt.rc('axes', titlesize=16, labelsize=17)\n",
    "plt.rc('lines', linewidth=2, markersize=6)\n",
    "plt.rc('legend', fontsize=15)"
   ]
  },
  {
   "cell_type": "markdown",
   "metadata": {},
   "source": [
    "Results plot\n",
    "========="
   ]
  },
  {
   "cell_type": "code",
   "execution_count": 83,
   "metadata": {},
   "outputs": [
    {
     "name": "stdout",
     "output_type": "stream",
     "text": [
      "['../data/chain/chain6.0.h5', '../data/chain/chain3.0.h5', '../data/chain/chain1.0.h5', '../data/chain/chain4.0.h5', '../data/chain/chain5.0.h5', '../data/chain/chain2.0.h5']\n",
      "6.0 ../data/chain/chain6.0.h5\n",
      "3.0 ../data/chain/chain3.0.h5\n",
      "1.0 ../data/chain/chain1.0.h5\n",
      "4.0 ../data/chain/chain4.0.h5\n",
      "5.0 ../data/chain/chain5.0.h5\n",
      "2.0 ../data/chain/chain2.0.h5\n"
     ]
    }
   ],
   "source": [
    "from glob import glob\n",
    "import emcee\n",
    "\n",
    "\n",
    "\n",
    "\n",
    "n_disc = 200\n",
    "\n",
    "\n",
    "filenames = glob('../data/chain/*.h5')\n",
    "N = len(filenames)\n",
    "print filenames\n",
    "b2k, snr, z_p, om = np.zeros(N), np.zeros(N), np.zeros(N), np.zeros(N)\n",
    "\n",
    "\n",
    "for i, filename in enumerate(filenames):\n",
    "    backend = emcee.backends.HDFBackend(filename, read_only=True)\n",
    "    samps = backend.get_chain(flat = True, discard=n_disc)\n",
    "    \n",
    "    fac = float(filename.strip('../data/chain/chain')[0:3])\n",
    "    \n",
    "    print fac, filename\n",
    "    b2k[i] = np.percentile(samps[:, 0], 50.+34.1) - np.percentile(samps[:, 0], 50.-34.1)\n",
    "    z_p[i] = np.percentile(samps[:, 1], 50.+34.1) - np.percentile(samps[:, 1], 50.-34.1)\n",
    "    snr[i] = np.sqrt(((2*np.arange(10, 100) + 1.)/2.).sum())/fac\n",
    "    om[i] = np.percentile(samps[:, 2], 50.+34.1) - np.percentile(samps[:, 2], 50.-34.1)\n",
    "    \n",
    "    "
   ]
  },
  {
   "cell_type": "code",
   "execution_count": 97,
   "metadata": {},
   "outputs": [
    {
     "data": {
      "image/png": "[encoded data removed]",
      "text/plain": [
       "<Figure size 432x288 with 2 Axes>"
      ]
     },
     "metadata": {},
     "output_type": "display_data"
    }
   ],
   "source": [
    "fig, ax = plt.subplots(constrained_layout=True)\n",
    "\n",
    "\n",
    "idxs = np.argsort(snr)\n",
    "beta_lst = np.arange(6) + 1\n",
    "beta_lst = beta_lst[::-1]\n",
    "\n",
    "snr_lst = snr[idxs]\n",
    "z_p_lst = z_p[idxs]\n",
    "om_lst = om[idxs]\n",
    "b2k_lst = b2k[idxs]\n",
    "\n",
    "ax.plot(snr_lst, b2k_lst, ls='--', c = 'gray', alpha = 0.5)\n",
    "ax.plot(snr_lst, z_p_lst, ls='--', c = 'gray', alpha = 0.5)\n",
    "ax.plot(snr_lst, om_lst/0.3158, ls='--', c = 'gray', alpha = 0.5)\n",
    "\n",
    "ax.scatter(snr_lst, b2k_lst, label=r'$b^2 \\mathcal{K}_0$', c = \"darkblue\")\n",
    "ax.scatter(snr_lst, z_p_lst, label=r'$z_\\ast$', c = \"darkred\")\n",
    "ax.scatter(snr_lst, om_lst/0.3158, label=r'$\\Omega_m$')\n",
    "\n",
    "ax1 = ax.twiny()\n",
    "\n",
    "\n",
    "ax1.spines[\"top\"].set_position((\"axes\", 1.))\n",
    "ax1.set_xlim(ax.get_xlim()[0], ax.get_xlim()[1])\n",
    "\n",
    "\n",
    "\n",
    "#ax.set_xlim([10, 99])\n",
    "#ax.set_ylim([2e-4, 5e-2])\n",
    "#ax.set_yscale(\"log\")\n",
    "\n",
    "\n",
    "ax.yaxis.set_major_locator(MultipleLocator(0.1))\n",
    "ax.yaxis.set_minor_locator(MultipleLocator(0.05))\n",
    "\n",
    "ax.set_ylabel(r'$\\sigma_\\theta/\\theta_\\mathrm{fid}$')\n",
    "#ax.set_xlabel(r'$\\mathrm{S}/\\mathrm{N}$')\n",
    "\n",
    "ax.legend()\n",
    "\n",
    "ax.grid(True, which = 'minor', alpha = 0.2, ls = \"-\")\n",
    "fig.tight_layout()\n",
    "#plt.savefig(\"Figs/main_results.pdf\")\n",
    "\n",
    "plt.show()"
   ]
  },
  {
   "cell_type": "code",
   "execution_count": null,
   "metadata": {},
   "outputs": [],
   "source": [
    "snr_lst"
   ]
  },
  {
   "cell_type": "code",
   "execution_count": null,
   "metadata": {},
   "outputs": [],
   "source": []
  },
  {
   "cell_type": "code",
   "execution_count": null,
   "metadata": {},
   "outputs": [],
   "source": []
  }
 ],
 "metadata": {
  "kernelspec": {
   "display_name": "Python 2",
   "language": "python",
   "name": "python2"
  },
  "language_info": {
   "codemirror_mode": {
    "name": "ipython",
    "version": 2
   },
   "file_extension": ".py",
   "mimetype": "text/x-python",
   "name": "python",
   "nbconvert_exporter": "python",
   "pygments_lexer": "ipython2",
   "version": "2.7.16"
  }
 },
 "nbformat": 4,
 "nbformat_minor": 2
}
